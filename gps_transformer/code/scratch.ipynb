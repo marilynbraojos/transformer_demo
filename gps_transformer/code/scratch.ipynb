{
 "cells": [
  {
   "cell_type": "code",
   "execution_count": 2,
   "metadata": {},
   "outputs": [],
   "source": [
    "import numpy as np"
   ]
  },
  {
   "cell_type": "code",
   "execution_count": 4,
   "metadata": {},
   "outputs": [],
   "source": [
    "data = np.load('/Volumes/MARI/ssdl_gps/correction_data/2018_2019/continuous_unique_correction_data_2018_2019_jan1_dec31_clipped_1_99.npz', mmap_mode='r')\n",
    "epochs = data['matching_epochs']\n",
    "final_clock_bias = data['matching_clock_bias']\n",
    "broadcast_clock_bias = data['matching_poly_values']\n",
    "correction_value = data['correction_vals']"
   ]
  },
  {
   "cell_type": "code",
   "execution_count": 6,
   "metadata": {},
   "outputs": [
    {
     "name": "stdout",
     "output_type": "stream",
     "text": [
      "4.312633867533354\n",
      "-1.4120041387756184\n"
     ]
    }
   ],
   "source": [
    "print(max(correction_value)/1e-9)\n",
    "print(min(correction_value)/1e-9)"
   ]
  },
  {
   "cell_type": "code",
   "execution_count": null,
   "metadata": {},
   "outputs": [],
   "source": []
  }
 ],
 "metadata": {
  "kernelspec": {
   "display_name": "clock_bias",
   "language": "python",
   "name": "python3"
  },
  "language_info": {
   "codemirror_mode": {
    "name": "ipython",
    "version": 3
   },
   "file_extension": ".py",
   "mimetype": "text/x-python",
   "name": "python",
   "nbconvert_exporter": "python",
   "pygments_lexer": "ipython3",
   "version": "3.8.18"
  }
 },
 "nbformat": 4,
 "nbformat_minor": 2
}

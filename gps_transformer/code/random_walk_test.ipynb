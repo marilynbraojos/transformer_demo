{
 "cells": [
  {
   "cell_type": "markdown",
   "id": "f6790d09-c301-4ecd-845d-1fc7fa66d0f9",
   "metadata": {},
   "source": [
    "# random_walk_test"
   ]
  },
  {
   "cell_type": "markdown",
   "id": "3e0cc353-266f-4229-9480-e0058d1b843f",
   "metadata": {},
   "source": [
    "**Author:** Marilyn Braojos Gutierrez\\\n",
    "**Purpose:** This program aims test a sample of the data (5 months) to evaluate if the data is a random walk. If it is a random walk, a machine learning algorithm is not recommended to estimate it.\\\n",
    "**PhD Milestone:** #1: *Leverage deep learning models to GPS satellite clock bias corrections.*\\\n",
    "**Project:** This program is Step (1) in this PhD milestone. Obtaining the data is the first critical step.\\\n",
    "**References:**\\\n",
    "[1] https://machinelearningmastery.com/gentle-introduction-random-walk-times-series-forecasting-python/#:~:text=In%20fact%2C%20all%20random%20walk,and%2For%20variance%20over%20time.\n",
    "\n",
    "[2] https://support.minitab.com/en-us/minitab/help-and-how-to/statistical-modeling/time-series/how-to/augmented-dickey-fuller-test/interpret-the-results/all-statistics-and-graphs/\n",
    "\n",
    "**Takeaways:**\n",
    "- The null hypothesis of the Augmented Dickey-Fuller is that there is a unit root, with the alternative that there is no unit root. If the p-value is above a critical size, then we cannot reject that there is a unit root.\n",
    "\n",
    "- The null hypothesis is that the data are non-stationary, which implies that differencing is a reasonable step to try to make the data stationary.\n",
    "\n",
    "- If **P-value ≤ significance level** and **Test statistic ≤ critical value**:\\\n",
    "If the p-value is less than or equal to the significance level or if the test statistic is less than or equal to the critical value, the decision is to reject the null hypothesis. Because the data provide evidence that the data are stationary, the recommendation of the analysis is to proceed without differencing.\n",
    "\n",
    "\n",
    "- If **P-value > significance level** and **Test statistic > critical value**:\\\n",
    "If the p-value is greater than the significance level or if the test statistic is greater than the critical value, the decision is to fail to reject the null hypothesis. Because the data do not provide evidence that the data are stationary, the recommendation of the analyis is to determine whether differencing makes the mean of the data stationary. This means the data set may be a random walk.\n",
    "\n",
    "**Notes:** \n",
    "- 5/12 of the data seems to be a good stopping point (~5 months), because the kernel dies at ~6 months (this may be a memory issue)"
   ]
  },
  {
   "cell_type": "code",
   "execution_count": 1,
   "id": "ce357d00-bd3e-4346-bbf6-05984708bc04",
   "metadata": {},
   "outputs": [],
   "source": [
    "import numpy as np\n",
    "from statsmodels.tsa.stattools import adfuller\n",
    "import math"
   ]
  },
  {
   "cell_type": "code",
   "execution_count": 2,
   "id": "1717c0bb-954b-4182-b96e-ebcd6f33f93c",
   "metadata": {},
   "outputs": [],
   "source": [
    "data = np.load('/Volumes/MARI/ssdl_gps/correction_data/2018_2019/continuous_unique_correction_data_2018_2019_jan1_dec31_clipped_015_9985.npz')\n",
    "epochs = data['matching_epochs']\n",
    "final_clock_bias = data['matching_clock_bias']\n",
    "broadcast_clock_bias = data['matching_poly_values']\n",
    "correction_value = data['correction_vals']"
   ]
  },
  {
   "cell_type": "code",
   "execution_count": 3,
   "id": "daa3dac9-312e-46b3-ad66-bdcd7cb886d9",
   "metadata": {},
   "outputs": [],
   "source": [
    "data_subset_beg = math.floor(10*len(correction_value)/24)\n",
    "data_subset_end = math.floor(14*len(correction_value)/24)"
   ]
  },
  {
   "cell_type": "code",
   "execution_count": 4,
   "id": "f0cea4e0-ce85-43ab-af49-439101d585fc",
   "metadata": {},
   "outputs": [
    {
     "name": "stdout",
     "output_type": "stream",
     "text": [
      "CPU times: user 13min 16s, sys: 52.7 s, total: 14min 9s\n",
      "Wall time: 2min 20s\n"
     ]
    }
   ],
   "source": [
    "%%time \n",
    "# Perform the Augmented Dickey-Fuller test: https://www.statsmodels.org/dev/generated/statsmodels.tsa.stattools.adfuller.html\n",
    "# result = adfuller(correction_value[:data_subset])\n",
    "result = adfuller(correction_value[data_subset_beg:data_subset_end])"
   ]
  },
  {
   "cell_type": "code",
   "execution_count": 5,
   "id": "a46374af-e5fc-4b7b-862e-c24d487c999b",
   "metadata": {},
   "outputs": [],
   "source": [
    "# Extract results\n",
    "adf_statistic = result[0]\n",
    "p_value = result[1]\n",
    "used_lag = result[2]\n",
    "num_observations = result[3]\n",
    "critical_values = result[4]\n",
    "icbest = result[5]"
   ]
  },
  {
   "cell_type": "code",
   "execution_count": 6,
   "id": "9797c1f1-def5-4612-9598-f0f7f1a51bf2",
   "metadata": {},
   "outputs": [
    {
     "name": "stdout",
     "output_type": "stream",
     "text": [
      "ADF Statistic: -17.104655996441302\n",
      "p-value: 7.436176583353637e-30\n",
      "Used Lag: 48\n",
      "Number of Observations: 350071\n",
      "Critical Values: {'1%': -3.430368680061904, '5%': -2.8615482563596957, '10%': -2.5667743945600296}\n",
      "We reject the null hypothesis: The data does not have a unit root and is stationary.\n"
     ]
    }
   ],
   "source": [
    "# Print results\n",
    "print(\"ADF Statistic:\", adf_statistic)\n",
    "print(\"p-value:\", p_value)\n",
    "print(\"Used Lag:\", used_lag)\n",
    "print(\"Number of Observations:\", num_observations)\n",
    "print(\"Critical Values:\", critical_values)\n",
    "\n",
    "# Interpretation\n",
    "alpha = 0.05\n",
    "if p_value < alpha:\n",
    "    print(\"We reject the null hypothesis: The data does not have a unit root and is stationary.\")\n",
    "else:\n",
    "    print(\"We fail to reject the null hypothesis: The data has a unit root and may be a random walk.\")"
   ]
  },
  {
   "cell_type": "code",
   "execution_count": null,
   "id": "07c511d0-4545-40a5-9720-0652689bf63e",
   "metadata": {},
   "outputs": [],
   "source": []
  }
 ],
 "metadata": {
  "kernelspec": {
   "display_name": "Python 3 (ipykernel)",
   "language": "python",
   "name": "python3"
  },
  "language_info": {
   "codemirror_mode": {
    "name": "ipython",
    "version": 3
   },
   "file_extension": ".py",
   "mimetype": "text/x-python",
   "name": "python",
   "nbconvert_exporter": "python",
   "pygments_lexer": "ipython3",
   "version": "3.8.18"
  }
 },
 "nbformat": 4,
 "nbformat_minor": 5
}

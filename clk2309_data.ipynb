{
  "cells": [
    {
      "cell_type": "markdown",
      "metadata": {
        "id": "view-in-github",
        "colab_type": "text"
      },
      "source": [
        "<a href=\"https://colab.research.google.com/github/marilynbraojos/transformer_demo/blob/main/clk2309_data.ipynb\" target=\"_parent\"><img src=\"https://colab.research.google.com/assets/colab-badge.svg\" alt=\"Open In Colab\"/></a>"
      ]
    },
    {
      "cell_type": "markdown",
      "source": [
        "#Data for GPS Week 2309"
      ],
      "metadata": {
        "id": "dotUSF4-oZL6"
      },
      "id": "dotUSF4-oZL6"
    },
    {
      "cell_type": "code",
      "execution_count": null,
      "id": "fe170dc3",
      "metadata": {
        "id": "fe170dc3"
      },
      "outputs": [],
      "source": [
        "import matplotlib.pyplot as plt\n",
        "import os\n",
        "import numpy as np"
      ]
    },
    {
      "cell_type": "code",
      "execution_count": null,
      "id": "f7932b31",
      "metadata": {
        "id": "f7932b31",
        "outputId": "0ccc04b7-07d9-451b-c3f5-d75a8d93f32f"
      },
      "outputs": [
        {
          "data": {
            "text/plain": [
              "['COD0OPSRAP_20240980000_01D_30S_CLK.CLK',\n",
              " 'COD0OPSRAP_20240990000_01D_30S_CLK.CLK',\n",
              " 'COD0OPSRAP_20241000000_01D_30S_CLK.CLK',\n",
              " 'COD0OPSRAP_20241010000_01D_30S_CLK.CLK',\n",
              " 'COD0OPSRAP_20241020000_01D_30S_CLK.CLK',\n",
              " 'COD0OPSRAP_20241030000_01D_30S_CLK.CLK',\n",
              " 'COD0OPSRAP_20241040000_01D_30S_CLK.CLK',\n",
              " 'EMR0OPSRAP_20240980000_01D_05M_CLK.CLK',\n",
              " 'EMR0OPSRAP_20240990000_01D_05M_CLK.CLK',\n",
              " 'EMR0OPSRAP_20241000000_01D_05M_CLK.CLK',\n",
              " 'EMR0OPSRAP_20241010000_01D_05M_CLK.CLK',\n",
              " 'EMR0OPSRAP_20241020000_01D_05M_CLK.CLK',\n",
              " 'EMR0OPSRAP_20241030000_01D_05M_CLK.CLK',\n",
              " 'EMR0OPSRAP_20241040000_01D_05M_CLK.CLK',\n",
              " 'ESA0OPSRAP_20240980000_01D_05M_CLK.CLK',\n",
              " 'ESA0OPSRAP_20240990000_01D_05M_CLK.CLK',\n",
              " 'ESA0OPSRAP_20241000000_01D_05M_CLK.CLK',\n",
              " 'ESA0OPSRAP_20241010000_01D_05M_CLK.CLK',\n",
              " 'ESA0OPSRAP_20241020000_01D_05M_CLK.CLK',\n",
              " 'ESA0OPSRAP_20241030000_01D_05M_CLK.CLK',\n",
              " 'ESA0OPSRAP_20241040000_01D_05M_CLK.CLK',\n",
              " 'GFZ0MGXRAP_20240980000_01D_30S_CLK.CLK',\n",
              " 'GFZ0MGXRAP_20240990000_01D_30S_CLK.CLK',\n",
              " 'GFZ0MGXRAP_20241000000_01D_30S_CLK.CLK',\n",
              " 'GFZ0MGXRAP_20241010000_01D_30S_CLK.CLK',\n",
              " 'GFZ0MGXRAP_20241020000_01D_30S_CLK.CLK',\n",
              " 'GFZ0MGXRAP_20241030000_01D_30S_CLK.CLK',\n",
              " 'GFZ0MGXRAP_20241040000_01D_30S_CLK.CLK',\n",
              " 'GFZ0OPSRAP_20240980000_01D_05M_CLK.CLK',\n",
              " 'GFZ0OPSRAP_20240990000_01D_05M_CLK.CLK',\n",
              " 'GFZ0OPSRAP_20241000000_01D_05M_CLK.CLK',\n",
              " 'GFZ0OPSRAP_20241010000_01D_05M_CLK.CLK',\n",
              " 'GFZ0OPSRAP_20241020000_01D_05M_CLK.CLK',\n",
              " 'GFZ0OPSRAP_20241030000_01D_05M_CLK.CLK',\n",
              " 'GFZ0OPSRAP_20241040000_01D_05M_CLK.CLK',\n",
              " 'GRG0OPSRAP_20240980000_01D_30S_CLK.CLK',\n",
              " 'GRG0OPSRAP_20240990000_01D_30S_CLK.CLK',\n",
              " 'GRG0OPSRAP_20241000000_01D_30S_CLK.CLK',\n",
              " 'GRG0OPSRAP_20241010000_01D_30S_CLK.CLK',\n",
              " 'GRG0OPSRAP_20241020000_01D_30S_CLK.CLK',\n",
              " 'GRG0OPSRAP_20241030000_01D_30S_CLK.CLK',\n",
              " 'GRG0OPSRAP_20241040000_01D_30S_CLK.CLK',\n",
              " 'GRG0OPSULT_20240980000_02D_05M_CLK.CLK',\n",
              " 'GRG0OPSULT_20240980600_02D_05M_CLK.CLK',\n",
              " 'GRG0OPSULT_20240981200_02D_05M_CLK.CLK',\n",
              " 'GRG0OPSULT_20240981800_02D_05M_CLK.CLK',\n",
              " 'GRG0OPSULT_20240990000_02D_05M_CLK.CLK',\n",
              " 'GRG0OPSULT_20240990600_02D_05M_CLK.CLK',\n",
              " 'GRG0OPSULT_20240991200_02D_05M_CLK.CLK',\n",
              " 'GRG0OPSULT_20240991800_02D_05M_CLK.CLK',\n",
              " 'GRG0OPSULT_20241000000_02D_05M_CLK.CLK',\n",
              " 'GRG0OPSULT_20241000600_02D_05M_CLK.CLK',\n",
              " 'GRG0OPSULT_20241001200_02D_05M_CLK.CLK',\n",
              " 'GRG0OPSULT_20241001800_02D_05M_CLK.CLK',\n",
              " 'GRG0OPSULT_20241010000_02D_05M_CLK.CLK',\n",
              " 'GRG0OPSULT_20241010600_02D_05M_CLK.CLK',\n",
              " 'GRG0OPSULT_20241011200_02D_05M_CLK.CLK',\n",
              " 'GRG0OPSULT_20241011800_02D_05M_CLK.CLK',\n",
              " 'GRG0OPSULT_20241020000_02D_05M_CLK.CLK',\n",
              " 'GRG0OPSULT_20241020600_02D_05M_CLK.CLK',\n",
              " 'GRG0OPSULT_20241021200_02D_05M_CLK.CLK',\n",
              " 'GRG0OPSULT_20241021800_02D_05M_CLK.CLK',\n",
              " 'GRG0OPSULT_20241030000_02D_05M_CLK.CLK',\n",
              " 'GRG0OPSULT_20241030600_02D_05M_CLK.CLK',\n",
              " 'GRG0OPSULT_20241031200_02D_05M_CLK.CLK',\n",
              " 'GRG0OPSULT_20241031800_02D_05M_CLK.CLK',\n",
              " 'GRG0OPSULT_20241040000_02D_05M_CLK.CLK',\n",
              " 'GRG0OPSULT_20241040600_02D_05M_CLK.CLK',\n",
              " 'GRG0OPSULT_20241041200_02D_05M_CLK.CLK',\n",
              " 'GRG0OPSULT_20241041800_02D_05M_CLK.CLK',\n",
              " 'IAC0MGXFIN_20240980000_01D_30S_CLK.CLK',\n",
              " 'IAC0MGXFIN_20240990000_01D_30S_CLK.CLK',\n",
              " 'IAC0MGXFIN_20241000000_01D_30S_CLK.CLK',\n",
              " 'IAC0MGXFIN_20241010000_01D_30S_CLK.CLK',\n",
              " 'IAC0MGXFIN_20241020000_01D_30S_CLK.CLK',\n",
              " 'IGS0OPSRAP_20240980000_01D_05M_CLK.CLK',\n",
              " 'IGS0OPSRAP_20240990000_01D_05M_CLK.CLK',\n",
              " 'IGS0OPSRAP_20241000000_01D_05M_CLK.CLK',\n",
              " 'IGS0OPSRAP_20241010000_01D_05M_CLK.CLK',\n",
              " 'IGS0OPSRAP_20241020000_01D_05M_CLK.CLK',\n",
              " 'IGS0OPSRAP_20241030000_01D_05M_CLK.CLK',\n",
              " 'IGS0OPSRAP_20241040000_01D_05M_CLK.CLK',\n",
              " 'IGS2OPSRTS_20241030000_01D_10S_CLK.CLK',\n",
              " 'IGS2OPSRTS_20241040000_01D_10S_CLK.CLK',\n",
              " 'IGS3OPSRTS_20241020000_01D_10S_CLK.CLK',\n",
              " 'IGS3OPSRTS_20241030000_01D_10S_CLK.CLK',\n",
              " 'IGS3OPSRTS_20241040000_01D_10S_CLK.CLK',\n",
              " 'JAX0MGXFIN_20240980000_01D_30S_CLK.CLK',\n",
              " 'JAX0MGXFIN_20240990000_01D_30S_CLK.CLK',\n",
              " 'JAX0MGXFIN_20241000000_01D_30S_CLK.CLK',\n",
              " 'JAX0MGXFIN_20241010000_01D_30S_CLK.CLK',\n",
              " 'JAX0MGXFIN_20241020000_01D_30S_CLK.CLK',\n",
              " 'JAX0MGXFIN_20241030000_01D_30S_CLK.CLK',\n",
              " 'JAX0MGXFIN_20241040000_01D_30S_CLK.CLK',\n",
              " 'JGX0OPSRAP_20240980000_01D_30S_CLK.CLK',\n",
              " 'JGX0OPSRAP_20240990000_01D_30S_CLK.CLK',\n",
              " 'JGX0OPSRAP_20241000000_01D_30S_CLK.CLK',\n",
              " 'JGX0OPSRAP_20241010000_01D_30S_CLK.CLK',\n",
              " 'JGX0OPSRAP_20241020000_01D_30S_CLK.CLK',\n",
              " 'JGX0OPSRAP_20241030000_01D_30S_CLK.CLK',\n",
              " 'JGX0OPSRAP_20241040000_01D_30S_CLK.CLK',\n",
              " 'JPL0OPSRAP_20240980000_01D_30S_CLK.CLK',\n",
              " 'JPL0OPSRAP_20240990000_01D_30S_CLK.CLK',\n",
              " 'JPL0OPSRAP_20241000000_01D_30S_CLK.CLK',\n",
              " 'JPL0OPSRAP_20241010000_01D_30S_CLK.CLK',\n",
              " 'JPL0OPSRAP_20241020000_01D_30S_CLK.CLK',\n",
              " 'JPL0OPSRAP_20241030000_01D_30S_CLK.CLK',\n",
              " 'JPL0OPSRAP_20241040000_01D_30S_CLK.CLK',\n",
              " 'USN0OPSRAP_20240980000_01D_05M_CLK.CLK',\n",
              " 'USN0OPSRAP_20240990000_01D_05M_CLK.CLK',\n",
              " 'USN0OPSRAP_20241000000_01D_05M_CLK.CLK',\n",
              " 'USN0OPSRAP_20241010000_01D_05M_CLK.CLK',\n",
              " 'USN0OPSRAP_20241020000_01D_05M_CLK.CLK',\n",
              " 'USN0OPSRAP_20241030000_01D_05M_CLK.CLK',\n",
              " 'USN0OPSRAP_20241040000_01D_05M_CLK.CLK']"
            ]
          },
          "execution_count": 2,
          "metadata": {},
          "output_type": "execute_result"
        }
      ],
      "source": [
        "folder_path = 'clk_2309'\n",
        "folder_contents = os.listdir(folder_path)\n",
        "folder_contents"
      ]
    },
    {
      "cell_type": "code",
      "execution_count": null,
      "id": "11162a5f",
      "metadata": {
        "id": "11162a5f"
      },
      "outputs": [],
      "source": [
        "# Preallocate memory\n",
        "clock_correction = []"
      ]
    },
    {
      "cell_type": "code",
      "execution_count": null,
      "id": "b3f0f478",
      "metadata": {
        "id": "b3f0f478",
        "outputId": "c87127db-46ab-401a-c192-23a73ad68787"
      },
      "outputs": [
        {
          "name": "stdout",
          "output_type": "stream",
          "text": [
            "An error occurred while processing file 'clk_2309\\IAC0MGXFIN_20240980000_01D_30S_CLK.CLK': could not convert string to float: '0.327332411805D-03'\n",
            "An error occurred while processing file 'clk_2309\\IAC0MGXFIN_20240990000_01D_30S_CLK.CLK': could not convert string to float: '0.329745746787D-03'\n",
            "An error occurred while processing file 'clk_2309\\IAC0MGXFIN_20241000000_01D_30S_CLK.CLK': could not convert string to float: '0.332157584523D-03'\n",
            "An error occurred while processing file 'clk_2309\\IAC0MGXFIN_20241010000_01D_30S_CLK.CLK': could not convert string to float: '0.334577686681D-03'\n",
            "An error occurred while processing file 'clk_2309\\IAC0MGXFIN_20241020000_01D_30S_CLK.CLK': could not convert string to float: '0.337000778828D-03'\n"
          ]
        }
      ],
      "source": [
        "for filename in folder_contents:\n",
        "    file_path = os.path.join(folder_path, filename)\n",
        "    line_ct = 0\n",
        "    end_header = False\n",
        "    try:\n",
        "        with open(file_path, 'r') as file:\n",
        "            for line in file:\n",
        "                line_ct += 1\n",
        "                if end_header:\n",
        "                    if line.startswith(\"AS\"):\n",
        "                        columns = line.split()\n",
        "                        if len(columns) >= 9:\n",
        "                            clock_corr_str = float(columns[9])\n",
        "                            clock_correction.append(clock_corr_str)\n",
        "                elif \"END OF HEADER\" in line:\n",
        "                    end_header = True\n",
        "\n",
        "    except FileNotFoundError:\n",
        "        print(f\"File '{file_path}' not found.\")\n",
        "    except Exception as e:\n",
        "        print(f\"An error occurred while processing file '{file_path}': {str(e)}\")"
      ]
    },
    {
      "cell_type": "code",
      "execution_count": null,
      "id": "1e6da437",
      "metadata": {
        "id": "1e6da437"
      },
      "outputs": [],
      "source": [
        "line_ct = 0\n",
        "end_header = False\n",
        "\n",
        "if len(folder_contents) > 0:\n",
        "    first_file_path = os.path.join(folder_path, folder_contents[0])  # Get path of the first file\n",
        "\n",
        "    try:\n",
        "        with open(first_file_path, 'r') as file:\n",
        "                    for line in file:\n",
        "                        line_ct += 1\n",
        "                        if end_header:\n",
        "                            if line.startswith(\"AS\"):\n",
        "                                columns = line.split()\n",
        "                                if len(columns) >= 9:\n",
        "                                    clock_corr_str = float(columns[9])\n",
        "                                    clock_correction.append(clock_corr_str)\n",
        "                        elif \"END OF HEADER\" in line:\n",
        "                            end_header = True\n",
        "\n",
        "    except FileNotFoundError:\n",
        "        print(f\"File '{first_file_path}' not found.\")\n",
        "    except Exception as e:\n",
        "        print(f\"An error occurred while processing file '{first_file_path}': {str(e)}\")\n",
        "\n",
        "else:\n",
        "    print(f\"No files found in folder '{folder_path}'.\")"
      ]
    },
    {
      "cell_type": "code",
      "execution_count": null,
      "id": "487f0455",
      "metadata": {
        "id": "487f0455"
      },
      "outputs": [],
      "source": [
        "print(clock_correction[:1000])"
      ]
    },
    {
      "cell_type": "code",
      "execution_count": null,
      "id": "007308b2",
      "metadata": {
        "id": "007308b2"
      },
      "outputs": [],
      "source": [
        "plt.plot(clock_correction)\n",
        "plt.xlabel('Index')\n",
        "plt.ylabel('Clock Correction')\n",
        "plt.title('Clock Correction Over Time')\n",
        "plt.xlim(0, 100)\n",
        "plt.show()"
      ]
    },
    {
      "cell_type": "code",
      "execution_count": null,
      "id": "1c1e70da",
      "metadata": {
        "id": "1c1e70da"
      },
      "outputs": [],
      "source": [
        "# Save clock_correction array into an npz file\n",
        "indices = np.arange(len(clock_correction))\n",
        "np.savez('correction_data.npz', indices=indices, y=clock_correction)"
      ]
    },
    {
      "cell_type": "code",
      "execution_count": null,
      "id": "23265203",
      "metadata": {
        "id": "23265203"
      },
      "outputs": [],
      "source": [
        "# Load the npz file\n",
        "data = np.load('correction_data.npz')"
      ]
    },
    {
      "cell_type": "code",
      "execution_count": null,
      "id": "4c2943ce",
      "metadata": {
        "id": "4c2943ce"
      },
      "outputs": [],
      "source": [
        "# Extract indices and 'y' (clock_correction) array from the loaded data\n",
        "indices = data['indices']\n",
        "clock_correction = data['y']"
      ]
    },
    {
      "cell_type": "code",
      "execution_count": null,
      "id": "dd755183",
      "metadata": {
        "id": "dd755183"
      },
      "outputs": [],
      "source": [
        "len(clock_correction)"
      ]
    },
    {
      "cell_type": "code",
      "execution_count": null,
      "id": "e169909d",
      "metadata": {
        "id": "e169909d"
      },
      "outputs": [],
      "source": [
        "# Plotting with custom indices as x-axis\n",
        "plt.plot(indices, clock_correction)\n",
        "plt.xlabel('Index')\n",
        "plt.ylabel('Clock Correction')\n",
        "plt.title('Clock Correction Over Time')\n",
        "plt.xlim(0, 100)  # Adjust the x-axis limit as needed\n",
        "plt.show()"
      ]
    }
  ],
  "metadata": {
    "kernelspec": {
      "display_name": "Python 3 (ipykernel)",
      "language": "python",
      "name": "python3"
    },
    "language_info": {
      "codemirror_mode": {
        "name": "ipython",
        "version": 3
      },
      "file_extension": ".py",
      "mimetype": "text/x-python",
      "name": "python",
      "nbconvert_exporter": "python",
      "pygments_lexer": "ipython3",
      "version": "3.9.7"
    },
    "colab": {
      "provenance": [],
      "include_colab_link": true
    }
  },
  "nbformat": 4,
  "nbformat_minor": 5
}